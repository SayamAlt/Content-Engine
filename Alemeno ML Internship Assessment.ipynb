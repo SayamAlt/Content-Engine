{
 "cells": [
  {
   "cell_type": "code",
   "execution_count": 27,
   "id": "840f0abe",
   "metadata": {},
   "outputs": [],
   "source": [
    "from langchain.document_loaders import PyPDFDirectoryLoader\n",
    "from langchain.embeddings.sentence_transformer import SentenceTransformerEmbeddings\n",
    "from langchain.vectorstores import Chroma\n",
    "from langchain_text_splitters import RecursiveCharacterTextSplitter\n",
    "from langchain.chains import LLMChain\n",
    "from langchain import PromptTemplate, HuggingFaceHub\n",
    "from langchain.retrievers.multi_query import MultiQueryRetriever\n",
    "from langchain.chains import LLMChain\n",
    "from dotenv import load_dotenv\n",
    "import os, logging\n",
    "import streamlit as st"
   ]
  },
  {
   "cell_type": "code",
   "execution_count": 3,
   "id": "b08ab8db",
   "metadata": {},
   "outputs": [
    {
     "data": {
      "text/plain": [
       "True"
      ]
     },
     "execution_count": 3,
     "metadata": {},
     "output_type": "execute_result"
    }
   ],
   "source": [
    "load_dotenv()"
   ]
  },
  {
   "cell_type": "code",
   "execution_count": 4,
   "id": "58d41770",
   "metadata": {},
   "outputs": [],
   "source": [
    "HUGGINGFACEHUB_API_KEY = os.getenv('HUGGINGFACEHUB_API_KEY')"
   ]
  },
  {
   "cell_type": "code",
   "execution_count": 5,
   "id": "b4c8c1b1",
   "metadata": {},
   "outputs": [],
   "source": [
    "os.environ['HUGGINGFACEHUB_API_TOKEN'] = HUGGINGFACEHUB_API_KEY"
   ]
  },
  {
   "cell_type": "code",
   "execution_count": 6,
   "id": "f0a40667",
   "metadata": {},
   "outputs": [
    {
     "data": {
      "text/plain": [
       "<langchain_community.document_loaders.pdf.PyPDFDirectoryLoader at 0x208532b9810>"
      ]
     },
     "execution_count": 6,
     "metadata": {},
     "output_type": "execute_result"
    }
   ],
   "source": [
    "loader = PyPDFDirectoryLoader(path='pdfs/',glob=\"**/*.pdf\")\n",
    "loader"
   ]
  },
  {
   "cell_type": "code",
   "execution_count": 7,
   "id": "ef8cd1a4",
   "metadata": {},
   "outputs": [
    {
     "data": {
      "text/plain": [
       "381"
      ]
     },
     "execution_count": 7,
     "metadata": {},
     "output_type": "execute_result"
    }
   ],
   "source": [
    "pdfs = loader.load()\n",
    "len(pdfs)"
   ]
  },
  {
   "cell_type": "code",
   "execution_count": 8,
   "id": "3d54fafe",
   "metadata": {},
   "outputs": [
    {
     "data": {
      "text/plain": [
       "Document(page_content='UNITED STATES\\nSECURITIES AND EXCHANGE COMMISSION\\nWashington, D.C. 20549\\n___________________________________________\\nFORM 10-K  \\n___________________________________________\\n(Mark One)\\n☒ ANNUAL REPORT PURSUANT TO SECTION 13 OR 15(d) OF THE SECURITIES EXCHANGE ACT OF 1934\\nFor the fiscal year ended December 31, 2023  \\nOR\\n☐ TRANSITION REPORT PURSUANT TO SECTION 13 OR 15(d) OF THE SECURITIES EXCHANGE ACT OF 1934\\nFor the transition period from              to             .\\nCommission file number: 001-37580  \\n___________________________________________\\nAlphabet Inc.  \\n(Exact name of registrant as specified in its charter)\\n___________________________________________\\nDelaware 61-1767919\\n(State or other jurisdiction of incorporation or organization) (I.R.S. Employer Identification No.)\\n1600 Amphitheatre Parkway  \\nMountain View , CA 94043  \\n(Address of principal executive offices, including zip code)\\n(650) 253-0000  \\n(Registrant\\'s telephone number, including area code)\\nSecurities registered pursuant to Section 12(b) of the Act:\\nTitle of each class Trading Symbol(s) Name of each exchange on which registered\\nClass A Common Stock, $0.001 par value GOOGL Nasdaq Stock Market LLC\\n(Nasdaq Global Select Market)\\nClass C Capital Stock, $0.001 par value GOOG Nasdaq Stock Market LLC\\n(Nasdaq Global Select Market)\\nSecurities registered pursuant to Section 12(g) of the Act:\\nTitle of each class\\nNone\\n___________________________________________\\nIndicate by check mark if the registrant is a well-known seasoned issuer, as defined in Rule 405 of the Securities \\nAct.    Yes  ☒    No  ☐\\nIndicate by check mark if the registrant is not required to file reports pursuant to Section 13 or Section 15(d) of the \\nAct.    Yes  ☐   No  ☒\\nIndicate by check mark whether the registrant (1) has filed all reports required to be filed by Section 13 or 15(d) of the Securities \\nExchange Act of 1934 during the preceding 12 months (or for such shorter period that the registrant was required to file such \\nreports), and (2) has been subject to such filing requirements for the past 90 days.    Yes  ☒    No  ☐\\nIndicate by check mark whether the registrant has submitted electronically every Interactive Data File required to be submitted \\npursuant to Rule 405 of Regulation S-T (§232.405 of this chapter) during the preceding 12 months (or for such shorter period that \\nthe registrant was required to submit such files).    Yes  ☒    No  ☐\\nIndicate by check mark whether the registrant is a large accelerated filer, an accelerated filer, a non-accelerated filer, a smaller \\nreporting company, or an emerging growth company. See the definitions of “large accelerated filer,” “accelerated filer,” “smaller \\nreporting company,” and \"emerging growth company\" in Rule 12b-2 of the Exchange Act.', metadata={'source': 'pdfs\\\\goog-10-k-2023 (1).pdf', 'page': 0})"
      ]
     },
     "execution_count": 8,
     "metadata": {},
     "output_type": "execute_result"
    }
   ],
   "source": [
    "pdfs[0]"
   ]
  },
  {
   "cell_type": "code",
   "execution_count": 9,
   "id": "e6210a59",
   "metadata": {},
   "outputs": [],
   "source": [
    "splitter = RecursiveCharacterTextSplitter(chunk_size=1000,chunk_overlap=0)\n",
    "docs = splitter.split_documents(pdfs)"
   ]
  },
  {
   "cell_type": "code",
   "execution_count": 10,
   "id": "863be2fc",
   "metadata": {},
   "outputs": [
    {
     "data": {
      "text/plain": [
       "HuggingFaceEmbeddings(client=SentenceTransformer(\n",
       "  (0): Transformer({'max_seq_length': 256, 'do_lower_case': False}) with Transformer model: BertModel \n",
       "  (1): Pooling({'word_embedding_dimension': 384, 'pooling_mode_cls_token': False, 'pooling_mode_mean_tokens': True, 'pooling_mode_max_tokens': False, 'pooling_mode_mean_sqrt_len_tokens': False, 'pooling_mode_weightedmean_tokens': False, 'pooling_mode_lasttoken': False, 'include_prompt': True})\n",
       "  (2): Normalize()\n",
       "), model_name='all-MiniLM-L6-v2', cache_folder=None, model_kwargs={}, encode_kwargs={}, multi_process=False, show_progress=False)"
      ]
     },
     "execution_count": 10,
     "metadata": {},
     "output_type": "execute_result"
    }
   ],
   "source": [
    "embeddings = SentenceTransformerEmbeddings(model_name='all-MiniLM-L6-v2')\n",
    "embeddings"
   ]
  },
  {
   "cell_type": "code",
   "execution_count": 11,
   "id": "0f99980c",
   "metadata": {},
   "outputs": [],
   "source": [
    "# # Initialize ChromaDB vector store\n",
    "# db = Chroma.from_documents(docs,embeddings,persist_directory='db')\n",
    "# db"
   ]
  },
  {
   "cell_type": "code",
   "execution_count": 12,
   "id": "188802d4",
   "metadata": {},
   "outputs": [
    {
     "data": {
      "text/plain": [
       "<langchain_community.vectorstores.chroma.Chroma at 0x2086febac50>"
      ]
     },
     "execution_count": 12,
     "metadata": {},
     "output_type": "execute_result"
    }
   ],
   "source": [
    "db = Chroma(persist_directory='db',embedding_function=embeddings)\n",
    "db"
   ]
  },
  {
   "cell_type": "code",
   "execution_count": 13,
   "id": "16a18077",
   "metadata": {},
   "outputs": [
    {
     "name": "stderr",
     "output_type": "stream",
     "text": [
      "D:\\Anaconda\\Lib\\site-packages\\langchain_core\\_api\\deprecation.py:119: LangChainDeprecationWarning: The class `HuggingFaceHub` was deprecated in LangChain 0.0.21 and will be removed in 0.2.0. Use HuggingFaceEndpoint instead.\n",
      "  warn_deprecated(\n"
     ]
    },
    {
     "data": {
      "text/plain": [
       "HuggingFaceHub(client=<InferenceClient(model='openai-community/gpt2', timeout=None)>, repo_id='openai-community/gpt2', task='text-generation', model_kwargs={'temperature': 0.6, 'max_length': 200})"
      ]
     },
     "execution_count": 13,
     "metadata": {},
     "output_type": "execute_result"
    }
   ],
   "source": [
    "model_path = \"openai-community/gpt2\"\n",
    "\n",
    "llm = HuggingFaceHub(repo_id=model_path,\n",
    "                    model_kwargs={'temperature': 0.6, 'max_length': 200})\n",
    "llm"
   ]
  },
  {
   "cell_type": "code",
   "execution_count": 14,
   "id": "995c445a",
   "metadata": {},
   "outputs": [
    {
     "data": {
      "text/plain": [
       "PromptTemplate(input_variables=['question'], template='You are an AI assistant. You have access to the content of several PDF documents from Google, Uber and Tesla. Compare the information from these documents to answer the following question: Question: {question}')"
      ]
     },
     "execution_count": 14,
     "metadata": {},
     "output_type": "execute_result"
    }
   ],
   "source": [
    "template = \"\"\"You are an AI assistant. You have access to the content of several PDF documents from Google, Uber and Tesla. Compare the information from these documents to answer the following question: Question: {question}\"\"\"\n",
    "\n",
    "prompt_template = PromptTemplate(template=template,input_variables=['question'])\n",
    "prompt_template"
   ]
  },
  {
   "cell_type": "code",
   "execution_count": 15,
   "id": "b70cae37",
   "metadata": {},
   "outputs": [
    {
     "data": {
      "text/plain": [
       "MultiQueryRetriever(retriever=VectorStoreRetriever(tags=['Chroma', 'HuggingFaceEmbeddings'], vectorstore=<langchain_community.vectorstores.chroma.Chroma object at 0x000002086FEBAC50>), llm_chain=LLMChain(prompt=PromptTemplate(input_variables=['question'], template='You are an AI assistant. You have access to the content of several PDF documents from Google, Uber and Tesla. Compare the information from these documents to answer the following question: Question: {question}'), llm=HuggingFaceHub(client=<InferenceClient(model='openai-community/gpt2', timeout=None)>, repo_id='openai-community/gpt2', task='text-generation', model_kwargs={'temperature': 0.6, 'max_length': 200}), output_parser=LineListOutputParser()))"
      ]
     },
     "execution_count": 15,
     "metadata": {},
     "output_type": "execute_result"
    }
   ],
   "source": [
    "retriever = MultiQueryRetriever.from_llm(retriever=db.as_retriever(),llm=llm,prompt=prompt_template)\n",
    "retriever"
   ]
  },
  {
   "cell_type": "code",
   "execution_count": 16,
   "id": "a781c7bf",
   "metadata": {},
   "outputs": [],
   "source": [
    "logging.basicConfig(level=logging.INFO)\n",
    "logger = logging.getLogger(__name__)\n",
    "logging.getLogger(\"langchain.retrievers.multi_query\").setLevel(logging.INFO)"
   ]
  },
  {
   "cell_type": "code",
   "execution_count": 17,
   "id": "33b87a26",
   "metadata": {},
   "outputs": [
    {
     "name": "stderr",
     "output_type": "stream",
     "text": [
      "INFO:langchain.retrievers.multi_query:Generated queries: ['You are an AI assistant. You have access to the content of several PDF documents from Google, Uber and Tesla. Compare the information from these documents to answer the following question: Question: What are the risk factors associated with Google and Tesla?', '', 'Answer: A significant risk factor is the two-factor analysis described in the previous section. The risk factor is how many users are using the service. The risk factor is how many users are using the service at a given time. The risk factor is how many users are using the service at a given time. The risk factor is how many users are using the service at a given time. The risk factor is how many users are using the service at a given time. The risk factor is']\n"
     ]
    },
    {
     "name": "stdout",
     "output_type": "stream",
     "text": [
      "[Document(page_content=\"YouTube provides people with entertainment, information, and opportunities to learn something new. Google Assistant \\noffers the best way to get things done seamlessly across different devices, providing intelligent help throughout a \\nperson's day, no matter where they are. Google Cloud helps customers solve today’s business challenges, improve \\nproductivity, reduce costs, and unlock new growth engines. We are continually innovating and building new products \\nand features that will help our users, partners, customers, and communities and have invested more than $150 billion \\nin research and development in the last five years in support of these efforts .\\nMaking AI H elpful for Everyone\\nAI is a transformational technology that can bring meaningful and positive change to people and societies across \\nthe world, and for our business. At Google, we have been bringing AI into our products and services for more than a\", metadata={'page': 4, 'source': 'pdfs\\\\goog-10-k-2023 (1).pdf'}), Document(page_content='www.sec.gov\\n)\\tthat\\tcontains\\nreports,\\tproxy\\tand\\tinformation\\tstatements,\\tand\\tother\\tinformation\\tregarding\\tissuers\\tthat\\tfile\\telectronically.\\tOur\\twebsite\\tis\\tlocated\\tat\\t\\nwww.tesla.com\\n,\\tand\\nour\\treports,\\tamendments\\tthereto,\\tproxy\\tstatements\\tand\\tother\\tinformation\\tare\\talso\\tmade\\tavailable,\\tfree\\tof\\tcharge,\\ton\\tour\\tinvestor\\trelations\\twebsite\\tat\\nir.tesla.com\\n\\tas\\tsoon\\tas\\treasonably\\tpracticable\\tafter\\twe\\telectronically\\tfile\\tor\\tfurnish\\tsuch\\tinformation\\twith\\tthe\\tSEC.\\tThe\\tinformation\\tposted\\ton\\tour\\twebsite\\nis\\tnot\\tincorporated\\tby\\treference\\tinto\\tthis\\tAnnual\\tReport\\ton\\tForm\\t10-K.\\nITEM\\t1A.\\tRISK\\tFACTORS\\nYou\\tshould\\tcarefully\\tconsider\\tthe\\trisks\\tdescribed\\tbelow\\ttogether\\twith\\tthe\\tother\\tinformation\\tset\\tforth\\tin\\tthis\\treport,\\twhich\\tcould\\tmaterially\\taffect\\tour\\nbusiness,\\tfinancial\\tcondition\\tand\\tfuture\\tresults.\\tThe\\trisks\\tdescribed\\tbelow\\tare\\tnot\\tthe\\tonly\\trisks\\tfacing\\tour\\tcompany.\\tRisks\\tand\\tuncertainties\\tnot\\tcurrently', metadata={'page': 14, 'source': 'pdfs\\\\tsla-20231231-gen.pdf'}), Document(page_content='support\\tour\\tplanned\\thigh-volume\\tproduct\\tsales,\\tmarket\\tand\\tgeographical\\texpansion\\tand\\ttechnological\\tinnovations.\\tIf\\twe\\tare\\tnot\\tsuccessful\\tin\\tmanaging\\nthese\\trisks,\\tour\\tbusiness,\\tfinancial\\tcondition\\tand\\toperating\\tresults\\tmay\\tbe\\tharmed.\\nEmployees\\tmay\\tleave\\tTesla\\tor\\tchoose\\tother\\temployers\\tover\\tTesla\\tdue\\tto\\tvarious\\tfactors,\\tsuch\\tas\\ta\\tvery\\tcompetitive\\tlabor\\tmarket\\tfor\\ttalented\\nindividuals\\twith\\tautomotive\\tor\\ttechnology\\texperience,\\tor\\tany\\tnegative\\tpublicity\\trelated\\tto\\tus.\\tIn\\tregions\\twhere\\twe\\thave\\tor\\twill\\thave\\toperations,\\nparticularly\\tsignificant\\tengineering\\tand\\tmanufacturing\\tcenters,\\tthere\\tis\\tstrong\\tcompetition\\tfor\\tindividuals\\twith\\tskillsets\\tneeded\\tfor\\tour\\tbusiness,\\tincluding\\nspecialized\\tknowledge\\tof\\telectric\\tvehicles,\\tengineering\\tand\\telectrical\\tand\\tbuilding\\tconstruction\\texpertise.\\tWe\\talso\\tcompete\\twith\\tboth\\tmature\\tand\\nprosperous\\tcompanies\\tthat\\thave\\tfar\\tgreater\\tfinancial\\tresources\\tthan\\twe\\tdo\\tand\\tstart-ups\\tand\\temerging\\tcompanies\\tthat\\tpromise\\tshort-term\\tgrowth\\nopportunities.', metadata={'page': 20, 'source': 'pdfs\\\\tsla-20231231-gen.pdf'}), Document(page_content='In\\taddition\\tto\\tthe\\trisks\\trelated\\tto\\tgeneral\\tprivacy\\tregulation,\\twe\\tmay\\talso\\tbe\\tsubject\\tto\\tspecific\\tvehicle\\tmanufacturer\\tobligations\\trelating\\tto\\ncybersecurity,\\tdata\\tprivacy\\tand\\tdata\\tlocalization\\trequirements\\twhich\\tplace\\tadditional\\trisks\\tto\\tour\\tinternational\\toperations.\\tRisks\\tand\\tpenalties\\tcould\\ninclude\\tongoing\\taudit\\trequirements,\\tdata\\tprotection\\n26', metadata={'page': 26, 'source': 'pdfs\\\\tsla-20231231-gen.pdf'}), Document(page_content='28', metadata={'page': 29, 'source': 'pdfs\\\\uber-10-k-2023.pdf'}), Document(page_content='33.', metadata={'page': 33, 'source': 'pdfs\\\\goog-10-k-2023 (1).pdf'}), Document(page_content='cross-platform advertising formats. During October 2022, we officially launched Uber’s advertising division and introduced Uber Journey Ads, an engaging way\\nfor brands to connect with consumers throughout the entire ride process. We now offer a model that enables brands to partner with Uber on a variety of advertising\\noptions on the Uber and Uber Eats apps, and beyond, while connecting with consumers in brand-safe and captivating ways. We also provide comprehensive\\nreporting and analysis, which helps brands fine-tune their understanding of consumers and create more impactful campaigns as they connect with consumers at\\nrelevant points throughout their journeys and transactions. During the fourth quarter of 2022, active advertising merchants exceeded 315,000. We believe that our\\nadvertising further strengthens the power of our platform and will continue to do so as we onboard more advertisers.\\nCompetitive Environment', metadata={'page': 6, 'source': 'pdfs\\\\uber-10-k-2023.pdf'}), Document(page_content='All other revenue includes revenue from immaterial sources such as New Mobility products and Advanced Technologies Group’s (“ATG”) collaboration\\nrevenue.\\nAdvertising Revenue\\nWe derive the majority of our advertising revenue from sponsored listing fees paid by merchants and brands in exchange for advertising on our platform.\\nAdvertising revenue is recognized when an end-user engages with the sponsored listing based on the number of clicks. Revenue is presented on a gross basis in the\\namount billed to merchants and brands as we control the advertisement before it is transferred to the end-user.\\n88', metadata={'page': 89, 'source': 'pdfs\\\\uber-10-k-2023.pdf'}), Document(page_content='Our\\trisk\\tmanagement\\tprogram\\talso\\tassesses\\tthird\\tparty\\trisks,\\tand\\twe\\tperform\\tthird-party\\trisk\\tmanagement\\tto\\tidentify\\tand\\tmitigate\\trisks\\tfrom\\tthird\\nparties\\tsuch\\tas\\tvendors,\\tsuppliers,\\tand\\tother\\tbusiness\\tpartners\\tassociated\\twith\\tour\\tuse\\tof\\tthird-party\\tservice\\tproviders.\\tCybersecurity\\trisks\\tare\\tevaluated\\nwhen\\tdetermining\\tthe\\tselection\\tand\\toversight\\tof\\tapplicable\\tthird-party\\tservice\\tproviders\\tand\\tpotential\\tfourth-party\\trisks\\twhen\\thandling\\tand/or\\tprocessing\\nour\\temployee,\\tbusiness\\tor\\tcustomer\\tdata.\\tIn\\taddition\\tto\\tnew\\tvendor\\tonboarding,\\twe\\tperform\\trisk\\tmanagement\\tduring\\tthird-party\\tcybersecurity\\ncompromise\\tincidents\\tto\\tidentify\\tand\\tmitigate\\trisks\\tto\\tus\\tfrom\\tthird-party\\tincidents.\\nWe\\tdescribe\\twhether\\tand\\thow\\trisks\\tfrom\\tidentified\\tcybersecurity\\tthreats,\\tincluding\\tas\\ta\\tresult\\tof\\tany\\tprevious\\tcybersecurity\\tincidents,\\thave\\nmaterially\\taffected\\tor\\tare\\treasonably\\tlikely\\tto\\tmaterially\\taffect\\tus,\\tincluding\\tour\\tbusiness\\tstrategy,\\tresults\\tof\\toperations,\\tor\\tfinancial\\tcondition,\\tunder\\tthe', metadata={'page': 29, 'source': 'pdfs\\\\tsla-20231231-gen.pdf'}), Document(page_content='some competitors, those network effects may not result in competitive advantages or may be overcome by smaller competitors. Maintaining a balance between\\nsupply and demand in any given area at any given time and our ability to execute operationally may be more important to service quality than the absolute size of\\nthe network. If our service quality diminishes or our competitors’ products achieve greater market adoption, our competitors may be able to grow at a quicker rate\\nthan we do and may diminish our network effect.\\nOur number of platform users may decline materially or fluctuate as a result of many factors, including, among other things, dissatisfaction with the operation\\nof our platform, the price of fares, meals, and shipments (including a reduction in incentives), dissatisfaction with the quality of service provided by the Drivers and', metadata={'page': 16, 'source': 'pdfs\\\\uber-10-k-2023.pdf'}), Document(page_content='ITEM 1A. RISK FACTORS\\nOur operations and financial results are subject to various risks and uncertainties, including but not limited to \\nthose described below, which could harm our business, reputation, financial condition, and operating results, and affect \\nthe trading price of our Class A and Class C stock.\\nRisks Specific to our Company\\nWe generate a significant portion of our revenues from advertising. Reduced spending by advertisers, a \\nloss of partners, or new and existing technologies that block ads online and/or affect our ability to customize \\nads could harm our business. \\nWe generated more than 75% of total  revenues from online advertising in 2023. Many of our advertisers, \\ncompanies that distribute our products and services, digital publishers, and content providers can terminate their \\ncontracts with us at any time. These partners may not continue to do business with us if we do not create more value', metadata={'page': 11, 'source': 'pdfs\\\\goog-10-k-2023 (1).pdf'}), Document(page_content='Our business depends on the performance and reliability of Internet, mobile, and other infrastructures that are not under our control. Disruptions in Internet\\ninfrastructure or GPS signals or the failure of telecommunications network operators to provide us with the bandwidth we need to provide our products and\\nofferings have interfered, and could continue to interfere with the speed and availability of our platform. If our platform is unavailable when platform users attempt\\nto access it, or if our platform does not load as quickly as platform users expect, platform users may not return to our platform as often in the future, or at all, and\\nmay use our competitors’ products or offerings more often. In addition, we have no control over the costs of the services provided by national telecommunications\\noperators. If mobile Internet access fees or other charges to Internet users increase, consumer traffic may decrease, which may in turn cause our revenue to\\nsignificantly decrease.', metadata={'page': 30, 'source': 'pdfs\\\\uber-10-k-2023.pdf'})]\n"
     ]
    }
   ],
   "source": [
    "sample_question = \"What are the risk factors associated with Google and Tesla?\"\n",
    "\n",
    "unique_documents = retriever.get_relevant_documents(query=sample_question)\n",
    "print(unique_documents)"
   ]
  },
  {
   "cell_type": "code",
   "execution_count": 18,
   "id": "e53593b9",
   "metadata": {},
   "outputs": [
    {
     "name": "stderr",
     "output_type": "stream",
     "text": [
      "INFO:langchain.retrievers.multi_query:Generated queries: ['You are an AI assistant. You have access to the content of several PDF documents from Google, Uber and Tesla. Compare the information from these documents to answer the following question: Question: What is the total revenue for Google Search? Answer: $11.3 billion. What is the total revenue for Google Search? $11.3 billion. Question: What is the total revenue for Uber? Answer: $7 billion. What is the total revenue for Tesla? Answer: $5.4 billion. What is the total revenue for Uber? Answer: $4.4 billion. Question: What is the total revenue for Uber? Answer: $3.9 billion. What is the total revenue for Uber? Answer: $']\n"
     ]
    },
    {
     "name": "stdout",
     "output_type": "stream",
     "text": [
      "[Document(page_content='Costs and Expenses\\nCost of Revenues\\nThe following table presents cost of revenues, including TAC (in millions, except percentages):\\n Year Ended December 31,\\n 2021 2022 2023\\nTAC $ 45,566 $ 48,955 $ 50,886 \\nOther cost of revenues  65,373  77,248  82,446 \\nTotal cost of revenues $ 110,939 $ 126,203 $ 133,332 \\nTotal cost of revenues as a percentage of revenues  43 %  45 %  43 %\\nCost of revenues increased  $7.1 billion  from 2022  to 2023  due to an increase  in other cost of revenues and TAC \\nof $5.2 billion  and $1.9 billion , respectively.\\nThe increase  in TAC from 2022  to 2023  was largely due to an increase in TAC paid to distribution partners, \\nprimarily driven by growth in revenues subject to TAC. The TAC rate decreased from 21.8%  to 21.4%  from 2022  to \\n2023  primarily due to a revenue mix shift from Google Network properties to Google Search & other properties. The \\nTAC rate on Google Search & other revenues and the TAC rate on Google Network revenues were both substantially', metadata={'page': 38, 'source': 'pdfs\\\\goog-10-k-2023 (1).pdf'}), Document(page_content='UBER TECHNOLOGIES, INC.\\nCONSOLIDATED STATEMENTS OF OPERATIONS\\n(In millions, except share amounts which are reflected in thousands, and per share amounts)\\nYear Ended December  31,\\n2020 2021 2022\\nRevenue $ 11,139 $ 17,455 $ 31,877 \\nCosts and expenses\\nCost of revenue, exclusive of depreciation and amortization shown separately below 5,154 9,351 19,659 \\nOperations and support 1,819 1,877 2,413 \\nSales and marketing 3,583 4,789 4,756 \\nResearch and development 2,205 2,054 2,798 \\nGeneral and administrative 2,666 2,316 3,136 \\nDepreciation and amortization 575 902 947 \\nTotal costs and expenses 16,002 21,289 33,709 \\nLoss from operations (4,863) (3,834) (1,832)\\nInterest expense (458) (483) (565)\\nOther income (expense), net (1,625) 3,292 (7,029)\\nLoss before income taxes and income (loss) from equity method investments (6,946) (1,025) (9,426)\\nProvision for (benefit from) income taxes (192) (492) (181)\\nIncome (loss) from equity method investments (34) (37) 107', metadata={'page': 75, 'source': 'pdfs\\\\uber-10-k-2023.pdf'}), Document(page_content='Revenue\\tRecognition\\nRevenue\\tby\\tsource\\nThe\\tfollowing\\ttable\\tdisaggregates\\tour\\trevenue\\tby\\tmajor\\tsource\\t(in\\tmillions):\\nYear\\tEnded\\tDecember\\t31,\\n2023\\n2022\\n2021\\nAutomotive\\tsales\\n$\\n78,509\\n\\t\\n$\\n67,210\\n\\t\\n$\\n44,125\\n\\t\\nAutomotive\\tregulatory\\tcredits\\n1,790\\n\\t\\n1,776\\n\\t\\n1,465\\n\\t\\nEnergy\\tgeneration\\tand\\tstorage\\tsales\\n5,515\\n\\t\\n3,376\\n\\t\\n2,279\\n\\t\\nServices\\tand\\tother\\n8,319\\n\\t\\n6,091\\n\\t\\n3,802\\n\\t\\nTotal\\trevenues\\tfrom\\tsales\\tand\\tservices\\n94,133\\n\\t\\n78,453\\n\\t\\n51,671\\n\\t\\nAutomotive\\tleasing\\n2,120\\n\\t\\n2,476\\n\\t\\n1,642\\n\\t\\nEnergy\\tgeneration\\tand\\tstorage\\tleasing\\n520\\n\\t\\n533\\n\\t\\n510\\n\\t\\nTotal\\trevenues\\n$\\n96,773\\n\\t\\n$\\n81,462\\n\\t\\n$\\n53,823\\n\\t\\nAutomotive\\tSegment\\nAutomotive\\tSales\\nAutomotive\\tsales\\trevenue\\tincludes\\trevenues\\trelated\\tto\\tcash\\tand\\tfinancing\\tdeliveries\\tof\\tnew\\tvehicles,\\tand\\tspecific\\tother\\tfeatures\\tand\\tservices\\tthat\\nmeet\\tthe\\tdefinition\\tof\\ta\\tperformance\\tobligation\\tunder\\tASC\\t606,\\tincluding\\taccess\\tto\\tour\\tFSD\\tCapability\\tfeatures\\tand\\ttheir\\tongoing\\tmaintenance,\\tinternet', metadata={'page': 56, 'source': 'pdfs\\\\tsla-20231231-gen.pdf'}), Document(page_content='Tesla,\\tInc.\\nConsolidated\\tStatements\\tof\\tOperations\\n(in\\tmillions,\\texcept\\tper\\tshare\\tdata)\\nYear\\tEnded\\tDecember\\t31,\\n2023\\n2022\\n2021\\nRevenues\\nAutomotive\\tsales\\n$\\n78,509\\n\\t\\n$\\n67,210\\n\\t\\n$\\n44,125\\n\\t\\nAutomotive\\tregulatory\\tcredits\\n1,790\\n\\t\\n1,776\\n\\t\\n1,465\\n\\t\\nAutomotive\\tleasing\\n2,120\\n\\t\\n2,476\\n\\t\\n1,642\\n\\t\\nTotal\\tautomotive\\trevenues\\n82,419\\n\\t\\n71,462\\n\\t\\n47,232\\n\\t\\nEnergy\\tgeneration\\tand\\tstorage\\n6,035\\n\\t\\n3,909\\n\\t\\n2,789\\n\\t\\nServices\\tand\\tother\\n8,319\\n\\t\\n6,091\\n\\t\\n3,802\\n\\t\\nTotal\\trevenues\\n96,773\\n\\t\\n81,462\\n\\t\\n53,823\\n\\t\\nCost\\tof\\trevenues\\nAutomotive\\tsales\\n65,121\\n\\t\\n49,599\\n\\t\\n32,415\\n\\t\\nAutomotive\\tleasing\\n1,268\\n\\t\\n1,509\\n\\t\\n978\\n\\t\\nTotal\\tautomotive\\tcost\\tof\\trevenues\\n66,389\\n\\t\\n51,108\\n\\t\\n33,393\\n\\t\\nEnergy\\tgeneration\\tand\\tstorage\\n4,894\\n\\t\\n3,621\\n\\t\\n2,918\\n\\t\\nServices\\tand\\tother\\n7,830\\n\\t\\n5,880\\n\\t\\n3,906\\n\\t\\nTotal\\tcost\\tof\\trevenues\\n79,113\\n\\t\\n60,609\\n\\t\\n40,217\\n\\t\\nGross\\tprofit\\n17,660\\n\\t\\n20,853\\n\\t\\n13,606\\n\\t\\nOperating\\texpenses\\nResearch\\tand\\tdevelopment\\n3,969\\n\\t\\n3,075\\n\\t\\n2,593\\n\\t\\nSelling,\\tgeneral\\tand\\tadministrative\\n4,800\\n\\t\\n3,946\\n\\t\\n4,517\\n\\t\\nRestructuring\\tand\\tother\\n—\\n\\t\\n176\\n\\t\\n(\\n27\\n)', metadata={'page': 50, 'source': 'pdfs\\\\tsla-20231231-gen.pdf'})]\n"
     ]
    }
   ],
   "source": [
    "sample_question = \"What is the total revenue for Google Search?\"\n",
    "\n",
    "unique_documents = retriever.get_relevant_documents(query=sample_question)\n",
    "print(unique_documents)"
   ]
  },
  {
   "cell_type": "code",
   "execution_count": 19,
   "id": "638ccd3b",
   "metadata": {},
   "outputs": [
    {
     "name": "stderr",
     "output_type": "stream",
     "text": [
      "INFO:langchain.retrievers.multi_query:Generated queries: ['You are an AI assistant. You have access to the content of several PDF documents from Google, Uber and Tesla. Compare the information from these documents to answer the following question: Question: What are the differences in the business of Tesla and Uber? Answer: Uber is a startup that uses its own software to build its own vehicles. Tesla uses the same software to build its own vehicles. Uber uses the same software to build its own vehicles. Tesla has its own software to build its own vehicles. Tesla has its own software to build its own vehicles. There are many different ways to choose to build your own vehicles.', '', \"Since you can't build your own car, you can't build your own software. So why do you need to know\"]\n"
     ]
    },
    {
     "name": "stdout",
     "output_type": "stream",
     "text": [
      "[Document(page_content='UBER TECHNOLOGIES, INC.\\nNOTES TO CONSOLIDATED FINANCIAL STATEMENTS\\nNote 1 – Description of Business and Summary of Significant Accounting Policies\\nDescription of Business\\nUber Technologies, Inc. (“Uber,” “we,” “our,” or “us”) was incorporated in Delaware in July 2010, and is headquartered in San Francisco, California. Uber is a\\ntechnology platform that uses a massive network, leading technology, operational excellence and product expertise to power movement from point A to point B.\\nUber develops and operates proprietary technology applications supporting a variety of offerings on its platform (“platform(s)” or “Platform(s)”). Uber connects\\nconsumers (“Rider(s)”) with independent providers of ride services (“Mobility Driver(s)”) for ridesharing services, and connects Riders and other consumers\\n(“Eaters”) with restaurants, grocers and other stores (collectively, “Merchants”) with delivery service providers (“Couriers”) for meal preparation, grocery and', metadata={'page': 82, 'source': 'pdfs\\\\uber-10-k-2023.pdf'}), Document(page_content='other delivery services. Riders and Eaters are collectively referred to as “end-user(s)” or “consumer(s).” Mobility Drivers and Couriers are collectively referred to\\nas “Driver(s).” Uber also connects consumers with public transportation networks. Uber uses this same network, technology, operational excellence and product\\nexpertise to connect shippers with carriers in the freight industry. Uber is also developing technologies designed to provide new solutions to solve everyday\\nproblems.\\nOur technology is used around the world, principally in the United States (“U.S.”) and Canada, Latin America, Europe, the Middle East, Africa, and Asia\\n(excluding China and Southeast Asia).\\nBasis of Presentation\\nThe accompanying consolidated financial statements have been prepared in accordance with generally accepted accounting principles in the United States', metadata={'page': 82, 'source': 'pdfs\\\\uber-10-k-2023.pdf'}), Document(page_content='driving vehicles on our ridesharing network. We believe that autonomous vehicle technologies may have the ability to meaningfully impact the industries in which\\nwe compete and that autonomous vehicles present substantial opportunities. Several companies other than Aurora, including Waymo, Cruise Automation, Tesla,\\nApple, Zoox (which Amazon has acquired), Aptiv, and Nuro, are developing autonomous vehicle technologies, either alone or through collaborations with car\\nmanufacturers, and we expect that they will use such technology to further compete with us in the mobility, delivery, or logistics industries. Waymo has already\\nintroduced a commercialized ridehailing fleet of autonomous vehicles, and it is possible that our competitors could introduce autonomous vehicle offerings earlier\\nthan we will be able to offer autonomous vehicles on our platform through our commercial agreement with Aurora or other partners. In the event that our', metadata={'page': 24, 'source': 'pdfs\\\\uber-10-k-2023.pdf'}), Document(page_content='PART I\\nITEM 1. BUSINESS\\nOverview\\nUber Technologies, Inc. (“Uber,” “we,” “our,” or “us”) is a technology platform that uses a massive network, leading technology, operational excellence and\\nproduct expertise to power movement from point A to point B. We develop and operate proprietary technology applications supporting a variety of offerings on our\\nplatform (“platform(s)” or “Platform(s)”). We connect consumers (“Rider(s)”) with independent providers of ride services (“Mobility Driver(s)”) for ridesharing\\nservices, and connect Riders and other consumers (“Eater(s)”) with restaurants, grocers and other stores (collectively, “Merchants”) with delivery service providers\\n(“Couriers”) for meal preparation, grocery and other delivery services. Riders and Eaters are collectively referred to as “end-user(s)” or “consumer(s).” Mobility\\nDrivers and Couriers are collectively referred to as “Driver(s).” We also connect consumers with public transportation networks. We use this same network,', metadata={'page': 5, 'source': 'pdfs\\\\uber-10-k-2023.pdf'}), Document(page_content='28', metadata={'page': 29, 'source': 'pdfs\\\\uber-10-k-2023.pdf'}), Document(page_content='33.', metadata={'page': 33, 'source': 'pdfs\\\\goog-10-k-2023 (1).pdf'}), Document(page_content='cross-platform advertising formats. During October 2022, we officially launched Uber’s advertising division and introduced Uber Journey Ads, an engaging way\\nfor brands to connect with consumers throughout the entire ride process. We now offer a model that enables brands to partner with Uber on a variety of advertising\\noptions on the Uber and Uber Eats apps, and beyond, while connecting with consumers in brand-safe and captivating ways. We also provide comprehensive\\nreporting and analysis, which helps brands fine-tune their understanding of consumers and create more impactful campaigns as they connect with consumers at\\nrelevant points throughout their journeys and transactions. During the fourth quarter of 2022, active advertising merchants exceeded 315,000. We believe that our\\nadvertising further strengthens the power of our platform and will continue to do so as we onboard more advertisers.\\nCompetitive Environment', metadata={'page': 6, 'source': 'pdfs\\\\uber-10-k-2023.pdf'}), Document(page_content='All other revenue includes revenue from immaterial sources such as New Mobility products and Advanced Technologies Group’s (“ATG”) collaboration\\nrevenue.\\nAdvertising Revenue\\nWe derive the majority of our advertising revenue from sponsored listing fees paid by merchants and brands in exchange for advertising on our platform.\\nAdvertising revenue is recognized when an end-user engages with the sponsored listing based on the number of clicks. Revenue is presented on a gross basis in the\\namount billed to merchants and brands as we control the advertisement before it is transferred to the end-user.\\n88', metadata={'page': 89, 'source': 'pdfs\\\\uber-10-k-2023.pdf'}), Document(page_content='also\\tdeveloping\\telectric\\tvehicles.\\tIn\\taddition,\\tseveral\\tmanufacturers\\toffer\\thybrid\\tvehicles,\\tincluding\\tplug-in\\tversions.\\n11', metadata={'page': 11, 'source': 'pdfs\\\\tsla-20231231-gen.pdf'}), Document(page_content='Autonomous vehicle technologies involve significant risks and liabilities. Collisions, including fatal collisions, have happened. Failures of autonomous vehicle\\ntechnologies that we may offer on our platform or crashes involving autonomous vehicles using the technology of our partners, could generate substantial liability\\nfor us, create negative publicity about us, or result in regulatory scrutiny, all of which would have an adverse effect on our reputation, brand, business, prospects,\\nand operating results.\\nFederal and state government regulations specifically designed to govern autonomous vehicle operation, testing and/or manufacture are developing. These\\nregulations could include requirements that delay or limit our ability to offer autonomous vehicles on our platform. If regulations of this nature are implemented,\\nwe may not be able to offer autonomous vehicle technologies on our platform in the manner we expect, or at all. Further, if we or parties with which we partner to', metadata={'page': 24, 'source': 'pdfs\\\\uber-10-k-2023.pdf'}), Document(page_content='and services may be less popular on some interfaces. Each manufacturer or distributor may establish unique technical \\nstandards for its devices, and our products and services may not be available or may only be available with limited \\nfunctionality for our users or our advertisers on these devices as a result. Some manufacturers may also elect not to \\ninclude our products on their devices. In addition, search queries may be undertaken via voice-activated search, apps, Table of Contents Alphabet Inc.\\n15.', metadata={'page': 15, 'source': 'pdfs\\\\goog-10-k-2023 (1).pdf'}), Document(page_content='strengthen the independence of Drivers in California and protect their ability to work flexibly when using the Uber platform.\\nDeveloping and delivering these new or upgraded products, offerings, and features is costly, and the success of such new products, offerings, and features\\ndepends on several factors, including the timely completion, introduction, and market acceptance of such products, offerings, and features. Moreover, any such new\\nor upgraded products, offerings, or features may not work as intended or may not provide intended value to platform users. For example, some product changes in\\nCalifornia have resulted in, and may continue to result in, reduced demand for rides and reduced supply of Drivers on our platform, Driver dissatisfaction, and\\nadverse impacts on the operation of our platform. If we are unable to continue to develop new or upgraded products, offerings, and features, or if platform users do', metadata={'page': 26, 'source': 'pdfs\\\\uber-10-k-2023.pdf'})]\n"
     ]
    }
   ],
   "source": [
    "sample_question = \"What are the differences in the business of Tesla and Uber?\"\n",
    "\n",
    "unique_documents = retriever.get_relevant_documents(query=sample_question)\n",
    "print(unique_documents)"
   ]
  },
  {
   "cell_type": "code",
   "execution_count": 20,
   "id": "37636272",
   "metadata": {},
   "outputs": [],
   "source": [
    "# Chain\n",
    "llm_chain = LLMChain(llm=llm,prompt=prompt_template)"
   ]
  },
  {
   "cell_type": "code",
   "execution_count": 21,
   "id": "b67aef11",
   "metadata": {},
   "outputs": [
    {
     "name": "stderr",
     "output_type": "stream",
     "text": [
      "D:\\Anaconda\\Lib\\site-packages\\langchain_core\\_api\\deprecation.py:119: LangChainDeprecationWarning: The method `Chain.__call__` was deprecated in langchain 0.1.0 and will be removed in 0.2.0. Use invoke instead.\n",
      "  warn_deprecated(\n"
     ]
    },
    {
     "data": {
      "text/plain": [
       "\"You are an AI assistant. You have access to the content of several PDF documents from Google, Uber and Tesla. Compare the information from these documents to answer the following question: Question: What are the differences in the business of Tesla and Uber? Answer: Uber is a startup that uses its own software to build its own vehicles. Tesla uses the same software to build its own vehicles. Uber uses the same software to build its own vehicles. Tesla has its own software to build its own vehicles. Tesla has its own software to build its own vehicles. There are many different ways to choose to build your own vehicles.\\n\\nSince you can't build your own car, you can't build your own software. So why do you need to know\""
      ]
     },
     "execution_count": 21,
     "metadata": {},
     "output_type": "execute_result"
    }
   ],
   "source": [
    "output = llm_chain(inputs={\n",
    "    \"question\": sample_question,\n",
    "    \"context\": \"\\n-------------\\n\".join([d.page_content for d in unique_documents])\n",
    "})\n",
    "output['text']"
   ]
  },
  {
   "cell_type": "code",
   "execution_count": 25,
   "id": "43321a34",
   "metadata": {},
   "outputs": [
    {
     "data": {
      "text/plain": [
       "\"Uber is a startup that uses its own software to build its own vehicles. Tesla uses the same software to build its own vehicles. Uber uses the same software to build its own vehicles. Tesla has its own software to build its own vehicles. Tesla has its own software to build its own vehicles. There are many different ways to choose to build your own vehicles.\\n\\nSince you can't build your own car, you can't build your own software. So why do you need to know\""
      ]
     },
     "execution_count": 25,
     "metadata": {},
     "output_type": "execute_result"
    }
   ],
   "source": [
    "output['text'].split('Answer: ')[1]"
   ]
  },
  {
   "cell_type": "code",
   "execution_count": 26,
   "id": "3aaf7eae",
   "metadata": {},
   "outputs": [
    {
     "name": "stderr",
     "output_type": "stream",
     "text": [
      "2024-06-27 22:18:43.361 \n",
      "  \u001b[33m\u001b[1mWarning:\u001b[0m to view this Streamlit app on a browser, run it with the following\n",
      "  command:\n",
      "\n",
      "    streamlit run C:\\Users\\ADMIN\\AppData\\Roaming\\Python\\Python311\\site-packages\\ipykernel_launcher.py [ARGUMENTS]\n",
      "2024-06-27 22:18:43.388 Session state does not function when running a script without `streamlit run`\n"
     ]
    }
   ],
   "source": [
    "st.title(\"Content Engine for Comparing PDF Documents\")\n",
    "\n",
    "query = st.text_input(\"Enter your question:\")\n",
    "\n",
    "if query:\n",
    "    docs = retriever.get_relevant_documents(query=query)\n",
    "    output = llm_chain(inputs={\n",
    "        \"question\": query,\n",
    "        \"context\": \"\\n---------------\\n\".join([d.page_content for d in docs])\n",
    "    })\n",
    "    response = str(output['text'].split('Answer: ')[1])\n",
    "    st.write(\"Response:\")\n",
    "    st.write(response)"
   ]
  }
 ],
 "metadata": {
  "kernelspec": {
   "display_name": "Python 3 (ipykernel)",
   "language": "python",
   "name": "python3"
  },
  "language_info": {
   "codemirror_mode": {
    "name": "ipython",
    "version": 3
   },
   "file_extension": ".py",
   "mimetype": "text/x-python",
   "name": "python",
   "nbconvert_exporter": "python",
   "pygments_lexer": "ipython3",
   "version": "3.11.5"
  }
 },
 "nbformat": 4,
 "nbformat_minor": 5
}
